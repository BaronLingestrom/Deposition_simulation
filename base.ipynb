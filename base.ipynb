{
 "cells": [
  {
   "cell_type": "markdown",
   "metadata": {},
   "source": [
    "### Base Operations"
   ]
  },
  {
   "cell_type": "code",
   "execution_count": 2,
   "metadata": {},
   "outputs": [],
   "source": [
    "import numpy as np\n",
    "import scipy as sp\n",
    "import matplotlib.pyplot as plt\n",
    "import matplotlib.animation as ani\n",
    "from IPython.display import display\n",
    "import copy"
   ]
  },
  {
   "cell_type": "code",
   "execution_count": 168,
   "metadata": {},
   "outputs": [],
   "source": [
    "class Particle():\n",
    "\tdef __init__(self, pos, E):\n",
    "\t\tself.pos = pos # list\n",
    "\t\tself.E = E\n",
    "\t\t\n",
    "\tdef __copy__(self):\n",
    "\t\treturn type(self)(self.pos, self.E)\n",
    "\n",
    "class Lattice():\n",
    "\t\n",
    "\tdef __init__(self, N):\n",
    "\t\tself.N = N\n",
    "\t\tself.lattice = np.zeros([self.N,self.N,2], dtype=bool)\n",
    "\t\tself.particles = []\n",
    "\t\tself.adjM = sp.sparse.lil_matrix((0,0), dtype=bool) # for interacting neighbours\n",
    "\tdef __copy__(self):\n",
    "\t\tnewL = type(self)(self.N, self.N_par)\n",
    "\t\tnewL.lattice = copy.copy(self.lattice)\n",
    "\t\tnewL.particles = copy.deepcopy(self.particles)\n",
    "\t\tnewL.adjM = copy.copy(self.adjM)\n",
    "\t\treturn newL\n",
    "\n",
    "\tdef neiProcess(self, pos):\n",
    "\t\t# when looking for hopping places\n",
    "\t\tposs = np.array([[[[i,j,k] for i in range(-1,2)] for j in range(-1,2)] for k in range(-1,2)]).reshape(3,9,3).reshape(27,3)\n",
    "\t\tposs = pos + np.array([i for i in poss.tolist() if not np.array_equal(i,[0,0,0])])\n",
    "\t\tposs[0] = poss[0]%self.N\n",
    "\t\tposs[1] = poss[1]%self.N\n",
    "\t\treturn poss\n",
    "\n",
    "\tdef neiInteraction(self, pos):\n",
    "\t\t# neighbours for interaction, aka in a sublattice\n",
    "\t\tposs = np.array([[[i,j,0] for i in range(-1,2)] for j in range(-1,2)])\n",
    "\t\tposs = pos + np.array([i for i in poss.tolist() if not np.array_equal(i,[0,0,0])])\n",
    "\t\tposs[0] = poss[0]%self.N\n",
    "\t\tposs[1] = poss[1]%self.N\n",
    "\t\treturn poss\n",
    "\n",
    "\tdef addParticle(self, particle): # particle is Particle type\n",
    "\t\ttmp = self.adjM\n",
    "\t\tself.adjM = sp.sparse.lil_matrix((len(self.particles)+1,len(self.particles)+1), dtype=bool)\n",
    "\t\tself.adjM[:len(self.particles), :len(self.particles)] = tmp\n",
    "\t\t# new particles position in lattice\n",
    "\t\tlowest = list(self.lattice[*particle.pos, :]).index(False) # first unoccupied through z axis\n",
    "\t\tparticle.pos = [*particle.pos, lowest] # now a 3D position\n",
    "\t\tself.lattice[*particle.pos] = True\n",
    "\t\tself.particles.append(particle)\n",
    "\t\t# adjacency matrix and neighbours\n",
    "\t\tfor adj in self.neiInteraction(particle.pos):\n",
    "\t\t\tif self.lattice[*adj]:\n",
    "\t\t\t\ti = self.getParIndex(adj)\n",
    "\t\t\t\tself.adjM[-1, i] = True\n",
    "\t\t\t\tself.adjM[i, -1] = True\n",
    "\n",
    "\tdef subParticle(self, index): # index in self.particles list\n",
    "\t\tind = list(np.arange(len(self.particles), dtype=int))\n",
    "\t\tind.pop(index)\n",
    "\t\tself.adjM = self.adjM[ind,:]\n",
    "\t\tself.adjM = self.adjM[:,ind]\n",
    "\t\tself.particles.pop(index)\n",
    "\t\tself.lattice[*self.particles[index].pos] = False\n",
    "\t\t\n",
    "\t\t  \n",
    "\tdef getParIndex(self, pos):\n",
    "\t\tfor j,p in enumerate(self.particles):\n",
    "\t\t\tif np.array_equal(p.pos, list(pos)):\n",
    "\t\t\t\treturn j\t\n",
    "\t\t\t\n",
    "\tdef getNewPart(self, E_bound):\n",
    "\t\t# generating a random incoming particle with energy distribution of Maxwell-Boltzmann\n",
    "\t\t# and a random position with a uniform angular distribution assuming the slit of the effusion cell is really far away\n",
    "\t\tE = np.Inf\n",
    "\t\twhile E < E_bound:\n",
    "\t\t\tE = sp.stats.gamma.rvs(1.5, loc=0, scale=1)  #  gamma.pdf(y, a) / scale    with    y = (x - loc) / scale\n",
    "\t\t\tpos = list(np.random.randint([self.N, self.N]))\n",
    "\t\treturn Particle(pos, E)\t\t# position still 2D\n",
    "\n",
    "\tdef getRateFactors(self, T, E_bond, E_bound):\n",
    "\t\t# creating n_new by checking the viable neighbours of the neighbours of each particle\n",
    "\t\tocc_x,occ_y = np.where(self.lattice == True)\n",
    "\t\tocc_sites = [[x,y] for x,y in zip(occ_x,occ_y)]\n",
    "\t\tunocc_nextto_occ = [[site for site in self.neiProcess(occ) if (self.lattice[*site] == False and site[3] >= 0)] for occ in occ_sites]\n",
    "\n",
    "\t\torigin = []\n",
    "\t\tdestination = []\n",
    "\t\tprobability = []\n",
    "\t\texecution = []\n",
    "\t\tfor o,d_collection in zip(occ_sites,unocc_nextto_occ):\n",
    "\t\t\tE_old = len(self.adjM[self.getParIndex(o)].nonzero()[0])*E_bond\n",
    "\t\t\tfor d in d_collection:\n",
    "\t\t\t\tE_hop = sum([E_bond for site in self.neiInteraction(d) if self.lattice[*site] == True])\n",
    "\t\t\t\torigin += [o]\n",
    "\t\t\t\tdestination += [d]\n",
    "\t\t\t\t'''differentiating between intra and interlayer jumping ??? '''\n",
    "\t\t\t\tif self.lattice[*(d + np.array([0,0,-1]))]: # hopping\n",
    "\t\t\t\t\tprobability += [self.particles[o].E/T * np.exp((E_hop - E_old)/T)]\n",
    "\t\t\t\t\texecution += [0]\n",
    "\t\t\t\telse: # desorption\n",
    "\t\t\t\t\tprobability += [self.particles[o].E/T * np.exp((E_bound - E_old)/T)]\n",
    "\t\t\t\t\texecution += [1]\n",
    "\n",
    "\t\treturn origin, destination, probability, execution\n",
    "\n",
    "\tdef doAProcess(self, T, E_bond, E_bound):\n",
    "\t\t# a single process in the lattice\n",
    "\n",
    "\t\to, d, p, e = self.getRateFactors(T, E_bond, E_bound)\n",
    "\t\t# choosing a process proportional to the probability rates\n",
    "\t\ti = np.random.choice(np.arange(len(d)),p=p/np.sum(p))\n",
    "\t\tparIndex = self.getParIndex(o[i])\n",
    "\n",
    "\t\t'''Could be argued that a subParicle() and an addParticle() is more efficient?'''\n",
    "\t\tmatch e[i]:\n",
    "\t\t\tcase 0: # hopping case\n",
    "\t\t\t\t# update lattice point\n",
    "\t\t\t\tself.lattice[*o[i]] = False\n",
    "\t\t\t\tself.lattice[*d[i]] = True\n",
    "\t\t\t\t# update particle position\n",
    "\t\t\t\tself.particles[parIndex].pos = d[i]\n",
    "\t\t\t\t# update adjacency matrix\n",
    "\t\t\t\tself.adjM[:,parIndex] = False\n",
    "\t\t\t\tself.adjM[parIndex,:] = False\n",
    "\t\t\t\tfor adj in self.neiInteraction(d[i]):\n",
    "\t\t\t\t\tif self.lattice[*adj]:\n",
    "\t\t\t\t\t\tparNei = self.getParIndex(adj)\n",
    "\t\t\t\t\t\tself.adjM[parIndex,parNei] = True\n",
    "\t\t\t\t\t\tself.adjM[parNei,parIndex] = True\t\t\n",
    "\t\t\tcase 1: # desorption case\n",
    "\t\t\t\tself.subParticle(parIndex)\n",
    "\n",
    "\t\t# update particle energies\n",
    "\t\tself.correctHopEnergy(o[i], d[i], e[i], E_bond) # thermalization dependent on what happened\n",
    "\n",
    "\tdef correctHopEnergy(self, origin, destination, execution):\n",
    "\t\t# energy change/distribution upon hopping event\n",
    "\n",
    "\t\t# hopping particle is at destination\n",
    "\t\t# 1st: change energy based on bond structure (bond lost -> energy gained)\n",
    "\t\t# \torigin: (always)\n",
    "\t\tfor particle_pos in self.neiInteraction(origin):\n",
    "\t\t\tif self.lattice[*particle_pos] == True and not np.array_equal(destination,particle_pos): # occ and not hopping particle (avoid extra \"self\" interaction)\n",
    "\t\t\t\t# neighboring lose one bond only while hopping (temporarly) lose all bonds\n",
    "\t\t\t\tself.particles[self.getParIndex(particle_pos)].E += 1\t# neighboring particles\n",
    "\t\t\t\tself.particles[self.getParIndex(destination)].E += 1\t# hopping particle\n",
    "\t\t# \tdestination: (only if particle is not desorped) (bond created -> energy lost)\n",
    "\t\t# \t\tin case of desorption rest of the process is not defined -> return early from energy handling\n",
    "\t\tif execution == 1: # desorption\n",
    "\t\t\treturn None\n",
    "\t\tfor particle_pos in self.neiInteraction(destination):\n",
    "\t\t\tif self.lattice[*particle_pos] == True:\n",
    "\t\t\t\tself.particles[self.getParIndex(particle_pos)].E -= 1\t# neighboring particles\n",
    "\t\t\t\tself.particles[self.getParIndex(destination)].E -= 1\t# hopping particle\n",
    "\t\t# 2nd: redistribute energy between particles around destination\n",
    "\t\tparticles_affected_pos = [pos for pos in self.neiInteraction(destination) if self.lattice[*pos] == True] + [destination]\n",
    "\t\tE_mean = np.mean([self.particles[self.getParIndex(pos)].E for pos in particles_affected_pos])\n",
    "\t\tE_sum_abs_deviation_from_mean = np.sum([np.abs(E_mean-self.particles[self.getParIndex(pos)].E) for pos in particles_affected_pos])\n",
    "\t\tfor particle_pos in particles_affected_pos:\n",
    "\t\t\tself.particles[self.getParIndex(particle_pos)].E += E_mean*(E_mean-self.particles[self.getParIndex(particle_pos)].E)/E_sum_abs_deviation_from_mean\n",
    "\t\t# done :)\n",
    "\t\treturn None\n",
    "\n",
    "\tdef processSequence(self, N_process=1, T=1, E_bond=1, E_bound=2):\n",
    "\t\t# repeated processes, introducing new particles\n",
    "\n",
    "\t\tN_particles = int(N_process/10)\n",
    "\t\tqueueParticle = np.random.randint(5, 10, int(N_process/10))\n",
    "\t\tn = 0\n",
    "\t\tfor action in range(N_process):\n",
    "\t\t\tif action%sum(queueParticle[:n]) == 0:\n",
    "\t\t\t\tn += 1\n",
    "\t\t\t\tself.addParticle(self.getNewPart(E_bound))\n",
    "\t\t\tself.doAProcess(T, E_bond, E_bound)\n",
    "\t\t'''\n",
    "\t\tNEEDED!!!\n",
    "\t\tExpanding the layers, handling active layers\n",
    "\t\tAnimation and stuff, physical properties if you want\n",
    "\t\tBest would be if we can visualize by color the energies of particles besides the position\n",
    "\n",
    "\t\t\n",
    "\t\thttps://matplotlib.org/stable/users/explain/animations/animations.html\n",
    "\t\t'''\n",
    "\n",
    "\n",
    "\tdef plot(self):\n",
    "\t\txv, yv = np.meshgrid(np.arange(self.N, dtype=float), np.arange(self.N, dtype=float))\n",
    "\t\txv[1:self.N:2, :] += 0.5\n",
    "\t\txl = []; yl = []\n",
    "\t\tfor i,p in enumerate(self.particles):\n",
    "\t\t\tif p.pos[1]%2 == 1:\n",
    "\t\t\t\txl.append(p.pos[0]+0.5)\n",
    "\t\t\telse:\n",
    "\t\t\t\txl.append(p.pos[0])\n",
    "\t\t\tyl.append(p.pos[1])\n",
    "\t\t\t# plt.annotate(str(i), (xl[-1], yl[-1]))\n",
    "\t\tplt.scatter(xv, yv, c='b')\n",
    "\t\tplt.scatter(xl, yl, c='r')\n",
    "\t\tplt.show()\n",
    "\n"
   ]
  },
  {
   "cell_type": "code",
   "execution_count": 156,
   "metadata": {},
   "outputs": [
    {
     "data": {
      "text/plain": [
       "array([[[ True,  True, False,  True],\n",
       "        [False,  True,  True,  True],\n",
       "        [False,  True, False,  True],\n",
       "        [ True, False,  True, False]],\n",
       "\n",
       "       [[ True, False, False,  True],\n",
       "        [ True, False, False, False],\n",
       "        [ True, False, False,  True],\n",
       "        [False, False,  True,  True]],\n",
       "\n",
       "       [[False,  True,  True,  True],\n",
       "        [ True,  True, False, False],\n",
       "        [ True, False,  True, False],\n",
       "        [ True,  True,  True,  True]],\n",
       "\n",
       "       [[ True,  True,  True, False],\n",
       "        [ True, False, False,  True],\n",
       "        [False,  True,  True, False],\n",
       "        [False,  True,  True, False]]])"
      ]
     },
     "metadata": {},
     "output_type": "display_data"
    },
    {
     "data": {
      "text/plain": [
       "[True, True, False, False]"
      ]
     },
     "metadata": {},
     "output_type": "display_data"
    },
    {
     "data": {
      "text/plain": [
       "2"
      ]
     },
     "execution_count": 156,
     "metadata": {},
     "output_type": "execute_result"
    }
   ],
   "source": [
    "# TESTING SITE\n",
    "x, y, z = np.meshgrid(np.arange(1,5),np.arange(1,4),np.arange(1,3))\n",
    "a = x * y * z\n",
    "\n",
    "a = np.where(np.random.rand(4,4,4) < 0.5, True, False)\n",
    "display(a)\n",
    "display(list(a[2,1,:]))\n",
    "list(a[2,1,:]).index(False)"
   ]
  },
  {
   "cell_type": "code",
   "execution_count": 22,
   "metadata": {},
   "outputs": [
    {
     "data": {
      "image/png": "[encoded data removed]",
      "text/plain": [
       "<Figure size 640x480 with 1 Axes>"
      ]
     },
     "metadata": {},
     "output_type": "display_data"
    },
    {
     "data": {
      "image/png": "[encoded data removed]",
      "text/plain": [
       "<Figure size 640x480 with 1 Axes>"
      ]
     },
     "metadata": {},
     "output_type": "display_data"
    }
   ],
   "source": [
    "plt.hist(sp.stats.maxwell.rvs(size=10000, loc=0, scale=1), 30, density=True)\n",
    "plt.plot(np.arange(0,5,1e-2), sp.stats.maxwell.pdf(np.arange(0,5,1e-2)), 'r-')\n",
    "plt.show()\n",
    "\n",
    "plt.hist(sp.stats.gamma.rvs(1.5, size=10000, loc=0, scale=10), 30, density=True)\n",
    "plt.plot(np.arange(0,10,1e-2), sp.stats.gamma.pdf(np.arange(0,10,1e-2), 1.5,scale=10), 'r-')\n",
    "# plt.xlim([0, 10])\n",
    "plt.show()\n"
   ]
  },
  {
   "cell_type": "code",
   "execution_count": null,
   "metadata": {},
   "outputs": [],
   "source": [
    "def gridFreezing(N, N_par, N_hop, T):\n",
    "    # input is either fixed T and number of hops\n",
    "    # or a T array with arbitrary N_hops\n",
    "    lattice = TriangleLattice(N, N_par)\n",
    "    lattice.fillParticle()\n",
    "    lattice.plot()\n",
    "    lattice_var = copy.copy(lattice)\n",
    "\n",
    "    # comparisons\n",
    "    print(\"Varying T while iterating\")\n",
    "    lattice.hoppingSequence(N_hop, T)\n",
    "    # print(\"Steady T while iterating\")\n",
    "    # lattice_var.hoppingSequence(N_hop)\n",
    "\n",
    "N = 40 # lattice grid size, even number\n",
    "N_par = 400 # particles on the grid\n",
    "N_hop = 1000 # number of hoppings to occur\n",
    "T = 1/(np.linspace(0.1, 10, N_hop)) # freezing in terms of rates (rates increase for high neighbours)\n",
    "\n",
    "gridFreezing(N, N_par, N_hop, T)"
   ]
  },
  {
   "cell_type": "code",
   "execution_count": 6,
   "metadata": {},
   "outputs": [
    {
     "name": "stdout",
     "output_type": "stream",
     "text": [
      "[[0 0]\n",
      " [0 0]] (2, 2)\n",
      "[[[0]\n",
      "  [0]]\n",
      "\n",
      " [[0]\n",
      "  [0]]] (2, 2, 1)\n",
      "[[[0 0]\n",
      "  [0 0]]\n",
      "\n",
      " [[0 0]\n",
      "  [0 0]]] (2, 2, 2)\n",
      "[[[0 0 0]\n",
      "  [0 0 0]]\n",
      "\n",
      " [[0 0 0]\n",
      "  [0 0 0]]] (2, 2, 3)\n"
     ]
    }
   ],
   "source": [
    "a=np.array([[0,0],[0,0]])\n",
    "print(a,a.shape)\n",
    "a=np.expand_dims(a,axis=2)\n",
    "print(a,a.shape)\n",
    "b=np.append(a,a,axis=2)\n",
    "print(b,b.shape)\n",
    "b=np.append(b,a,axis=2)\n",
    "print(b,b.shape)"
   ]
  },
  {
   "cell_type": "code",
   "execution_count": 12,
   "metadata": {},
   "outputs": [
    {
     "name": "stdout",
     "output_type": "stream",
     "text": [
      "[[0 1 2]\n",
      " [3 4 5]\n",
      " [6 7 8]]\n",
      "4\n",
      "4\n",
      "[1 1]\n"
     ]
    }
   ],
   "source": [
    "a=np.arange(9).reshape((3,3))\n",
    "print(a)\n",
    "b=np.array([1,1,5])\n",
    "print(a[1,1])\n",
    "print(a[*b[:2]])\n",
    "print(b[:2])"
   ]
  },
  {
   "cell_type": "code",
   "execution_count": 26,
   "metadata": {},
   "outputs": [
    {
     "data": {
      "text/plain": [
       "array([[False, False],\n",
       "       [False, False]])"
      ]
     },
     "execution_count": 26,
     "metadata": {},
     "output_type": "execute_result"
    }
   ],
   "source": [
    "a=np.array([2,2])\n",
    "b=np.zeros(a)\n",
    "c=np.zeros_like(b,dtype=bool)\n",
    "np.zeros_like(c)"
   ]
  },
  {
   "cell_type": "code",
   "execution_count": 29,
   "metadata": {},
   "outputs": [
    {
     "name": "stdout",
     "output_type": "stream",
     "text": [
      "[[ 1  1  1]\n",
      " [ 2 10 10]]\n"
     ]
    },
    {
     "data": {
      "text/plain": [
       "array([[ 1,  1,  1],\n",
       "       [ 2, 10, 10],\n",
       "       [ 1,  1,  1],\n",
       "       [ 2, 10, 10]])"
      ]
     },
     "execution_count": 29,
     "metadata": {},
     "output_type": "execute_result"
    }
   ],
   "source": [
    "a=np.array([[1,1,1],[10,10,10]])\n",
    "a[:,0]%=4\n",
    "print(a)\n",
    "np.append(a,a,axis=0)"
   ]
  },
  {
   "cell_type": "code",
   "execution_count": 35,
   "metadata": {},
   "outputs": [
    {
     "data": {
      "text/plain": [
       "0"
      ]
     },
     "execution_count": 35,
     "metadata": {},
     "output_type": "execute_result"
    }
   ],
   "source": [
    "max([],default=0)"
   ]
  }
 ],
 "metadata": {
  "kernelspec": {
   "display_name": "Better",
   "language": "python",
   "name": "python3"
  },
  "language_info": {
   "codemirror_mode": {
    "name": "ipython",
    "version": 3
   },
   "file_extension": ".py",
   "mimetype": "text/x-python",
   "name": "python",
   "nbconvert_exporter": "python",
   "pygments_lexer": "ipython3",
   "version": "3.11.9"
  }
 },
 "nbformat": 4,
 "nbformat_minor": 2
}
